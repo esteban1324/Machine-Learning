{
 "cells": [
  {
   "cell_type": "markdown",
   "metadata": {},
   "source": [
    "ML Question: \n",
    "\n",
    "- Fit a logistic regression and SVM to the wine dataset.\n",
    "- Red vs White are ouput classes \n",
    "- try different kernels for SVMs\n",
    "- split the data 50/50 into training and test sets using train_test_split\n",
    "- random state should be 1\n",
    "- use training set to train the model \n",
    "- Objective: report highest accuracy. \n",
    "\n"
   ]
  },
  {
   "cell_type": "code",
   "execution_count": 52,
   "metadata": {},
   "outputs": [],
   "source": [
    "# imports \n",
    "import pandas as pd\n",
    "import numpy as np\n",
    "from sklearn.linear_model import LogisticRegression\n",
    "from sklearn import model_selection\n",
    "from sklearn.metrics import accuracy_score\n",
    "from sklearn.svm import SVC \n",
    "from sklearn.model_selection import train_test_split\n",
    "from sklearn.preprocessing import LabelEncoder\n",
    "from sklearn.preprocessing import StandardScaler\n"
   ]
  },
  {
   "cell_type": "markdown",
   "metadata": {},
   "source": [
    "Preprocess the data"
   ]
  },
  {
   "cell_type": "code",
   "execution_count": 53,
   "metadata": {},
   "outputs": [],
   "source": [
    "# load the csv file red wine data set.\n",
    "df = pd.read_csv(\"C:\\\\Users\\\\esteb\\\\PythonProjects\\\\projects\\\\Machine-Learning\\\\MLHW2\\\\wine_dataset.csv\")\n",
    "\n",
    "# preprocess data and encode type of data\n",
    "label_encoder = LabelEncoder()\n",
    "df['style'] = label_encoder.fit_transform(df['style'])\n",
    "\n",
    "# X should be all the other columns minus the style which 'style' is target column\n",
    "X = df.drop(columns=['style'])\n",
    "y = df['style']\n",
    "\n",
    "# scaler to standardize features\n",
    "scaler = StandardScaler()\n",
    "X_scaled = scaler.fit_transform(X)\n",
    "\n",
    "# split the data into training and test sets\n",
    "X_train, X_test, y_train, y_test = train_test_split(X, y, test_size = 0.5, random_state = 1, stratify = y) "
   ]
  },
  {
   "cell_type": "markdown",
   "metadata": {},
   "source": [
    "Train the logistic model."
   ]
  },
  {
   "cell_type": "code",
   "execution_count": 54,
   "metadata": {},
   "outputs": [
    {
     "name": "stdout",
     "output_type": "stream",
     "text": [
      "logistic regression score:  0.9827639273622654\n"
     ]
    }
   ],
   "source": [
    "model = LogisticRegression(max_iter=1000)\n",
    "model.fit(X_train, y_train)\n",
    "y_pred = model.predict(X_test)\n",
    "print(\"logistic regression score: \", accuracy_score(y_true=y_test, y_pred=y_pred))"
   ]
  },
  {
   "cell_type": "markdown",
   "metadata": {},
   "source": [
    "Train the svm with different kernel function and find best accuracy"
   ]
  },
  {
   "cell_type": "code",
   "execution_count": 60,
   "metadata": {},
   "outputs": [
    {
     "name": "stdout",
     "output_type": "stream",
     "text": [
      "best accuracy for svm SVC(kernel='linear', max_iter=1000000)\n",
      "respective score:  0.9867651585103109\n"
     ]
    }
   ],
   "source": [
    "\n",
    "best_accuracy = 0\n",
    "kernels = ['linear', 'rbf', 'poly']\n",
    "best_model = None\n",
    "\n",
    "for kernel_type in kernels:\n",
    "    # train and predict svm types \n",
    "    svm_type = SVC(max_iter=1000000, kernel=kernel_type)\n",
    "    svm_type.fit(X_train, y_train)\n",
    "    y_pred = svm_type.predict(X_test)\n",
    "    score = accuracy_score(y_test, y_pred)\n",
    "    \n",
    "    # get best svm model accuracy \n",
    "    if score > best_accuracy:\n",
    "        best_accuracy = score \n",
    "        best_model = svm_type\n",
    "\n",
    "print(\"best accuracy for svm\", best_model)\n",
    "print(\"respective score: \", best_accuracy)\n",
    "\n",
    "    \n",
    "    \n",
    "    "
   ]
  }
 ],
 "metadata": {
  "kernelspec": {
   "display_name": "Python 3",
   "language": "python",
   "name": "python3"
  },
  "language_info": {
   "codemirror_mode": {
    "name": "ipython",
    "version": 3
   },
   "file_extension": ".py",
   "mimetype": "text/x-python",
   "name": "python",
   "nbconvert_exporter": "python",
   "pygments_lexer": "ipython3",
   "version": "3.11.8"
  }
 },
 "nbformat": 4,
 "nbformat_minor": 2
}
