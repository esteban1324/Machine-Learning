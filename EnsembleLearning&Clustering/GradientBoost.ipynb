{
 "cells": [
  {
   "cell_type": "markdown",
   "metadata": {},
   "source": [
    "Generate a random dataset of 20 Samples.  Each sample should have two inputs and 1 output label either 0 or 1."
   ]
  },
  {
   "cell_type": "code",
   "execution_count": 1,
   "metadata": {},
   "outputs": [],
   "source": [
    "# imports \n",
    "import random\n",
    "import numpy as np\n",
    "from sklearn.linear_model import LinearRegression\n",
    "from sklearn.tree import DecisionTreeRegressor\n",
    "from sklearn.ensemble import RandomForestClassifier\n",
    " \n"
   ]
  },
  {
   "cell_type": "code",
   "execution_count": 2,
   "metadata": {},
   "outputs": [
    {
     "name": "stdout",
     "output_type": "stream",
     "text": [
      "[[5.17297884e-01 9.46962604e-01 1.00000000e+00]\n",
      " [7.65459759e-01 2.82395844e-01 1.00000000e+00]\n",
      " [2.21045363e-01 6.86222085e-01 0.00000000e+00]\n",
      " [1.67139203e-01 3.92442466e-01 1.00000000e+00]\n",
      " [6.18052347e-01 4.11930095e-01 0.00000000e+00]\n",
      " [2.46488120e-03 8.84032182e-01 1.00000000e+00]\n",
      " [8.84947538e-01 3.00409689e-01 0.00000000e+00]\n",
      " [5.89581865e-01 9.78426916e-01 1.00000000e+00]\n",
      " [8.45093822e-01 6.50754391e-02 1.00000000e+00]\n",
      " [2.94744465e-01 2.87934441e-01 0.00000000e+00]\n",
      " [8.22466339e-01 6.26183038e-01 1.00000000e+00]\n",
      " [1.10477714e-01 5.28811169e-04 1.00000000e+00]\n",
      " [9.42166233e-01 1.41500758e-01 1.00000000e+00]\n",
      " [4.21596526e-01 3.46489440e-01 0.00000000e+00]\n",
      " [8.69785084e-01 4.28601812e-01 0.00000000e+00]\n",
      " [8.28751484e-01 7.17851838e-01 0.00000000e+00]\n",
      " [1.19226694e-01 5.96384173e-01 1.00000000e+00]\n",
      " [1.29756298e-01 7.75340917e-02 0.00000000e+00]\n",
      " [8.31205256e-01 4.64385615e-01 1.00000000e+00]\n",
      " [1.62012479e-01 5.47975292e-01 0.00000000e+00]]\n"
     ]
    }
   ],
   "source": [
    "# generate random data\n",
    "np.random.seed(23)\n",
    "\n",
    "# dataset of 2 features and y as the target\n",
    "X = np.random.rand(20, 2)\n",
    "y = np.random.choice([0, 1], size=(20, 1))\n",
    "\n",
    "\n",
    "# dataset with 2 features and y as the target\n",
    "data_set = np.concatenate((X, y.reshape(-1, 1)), axis=1)\n",
    "\n",
    "print(data_set)\n"
   ]
  },
  {
   "cell_type": "markdown",
   "metadata": {},
   "source": [
    "Output the log-odds of the dataset. This will be the predicted output of the 0th decision tree"
   ]
  },
  {
   "cell_type": "code",
   "execution_count": 3,
   "metadata": {},
   "outputs": [
    {
     "name": "stdout",
     "output_type": "stream",
     "text": [
      "0.2006706954621514\n"
     ]
    }
   ],
   "source": [
    "# output the log-odds of the dataset \n",
    "\n",
    "def log_odds(data_set):\n",
    "    # calculate the log-odds\n",
    "    # note p is the probability of the target being 1\n",
    "    p = np.mean(data_set[:, -1])\n",
    "    log_odds = np.log(p / (1 - p))\n",
    "    return log_odds\n",
    "\n",
    "print(log_odds(data_set))\n",
    "\n",
    "\n",
    "    "
   ]
  },
  {
   "cell_type": "markdown",
   "metadata": {},
   "source": [
    " Calculate and output the residual terms for each training data."
   ]
  },
  {
   "cell_type": "code",
   "execution_count": 4,
   "metadata": {},
   "outputs": [
    {
     "name": "stdout",
     "output_type": "stream",
     "text": [
      "Sample 0: 0.7993293045378486\n",
      "Sample 1: 0.7993293045378486\n",
      "Sample 2: -0.2006706954621514\n",
      "Sample 3: 0.7993293045378486\n",
      "Sample 4: -0.2006706954621514\n",
      "Sample 5: 0.7993293045378486\n",
      "Sample 6: -0.2006706954621514\n",
      "Sample 7: 0.7993293045378486\n",
      "Sample 8: 0.7993293045378486\n",
      "Sample 9: -0.2006706954621514\n",
      "Sample 10: 0.7993293045378486\n",
      "Sample 11: 0.7993293045378486\n",
      "Sample 12: 0.7993293045378486\n",
      "Sample 13: -0.2006706954621514\n",
      "Sample 14: -0.2006706954621514\n",
      "Sample 15: -0.2006706954621514\n",
      "Sample 16: 0.7993293045378486\n",
      "Sample 17: -0.2006706954621514\n",
      "Sample 18: 0.7993293045378486\n",
      "Sample 19: -0.2006706954621514\n"
     ]
    }
   ],
   "source": [
    "# calculate the residuals of the dataset\n",
    "def residuals(data_set):\n",
    "    # calculate the residuals\n",
    "    log_odds_value = log_odds(data_set)\n",
    "    residuals = data_set[:, -1] - log_odds_value\n",
    "    return residuals\n",
    "\n",
    "for i in range(0, 20):\n",
    "    print(f\"Sample {i}: {residuals(data_set)[i]}\")"
   ]
  },
  {
   "cell_type": "markdown",
   "metadata": {},
   "source": [
    "Fit a decision tree (decision tree 1) to the residuals. Fix the max depth of tree to 2(i.e., root is at level 0 and the leaves are at a maximum depth of 2). Output γj1 for each leaf node\n",
    "\n",
    "\n",
    "Choose at least two samples from each leaf node and output their predicted values\n",
    "using decision tree 1\n",
    "\n"
   ]
  },
  {
   "cell_type": "code",
   "execution_count": 5,
   "metadata": {},
   "outputs": [
    {
     "name": "stdout",
     "output_type": "stream",
     "text": [
      "Leaf 1: 0.7993293045378486\n",
      "Leaf 3: -0.03400402879548476\n",
      "Leaf 4: 0.4356929409014849\n",
      "Leaf 1, Sample 5: 0.7993293045378486\n",
      "Leaf 1, Sample 5: 0.7993293045378486\n",
      "Leaf 3, Sample 13: -0.03400402879548476\n",
      "Leaf 3, Sample 3: -0.03400402879548476\n",
      "Leaf 4, Sample 15: 0.4356929409014849\n",
      "Leaf 4, Sample 7: 0.4356929409014849\n"
     ]
    }
   ],
   "source": [
    "# fit a decision tree to the residuals\n",
    "X = data_set[:, :-1]\n",
    "y = residuals(data_set)\n",
    "\n",
    "# fit a decision tree to the residuals\n",
    "model = DecisionTreeRegressor(max_depth=2)\n",
    "model.fit(X, y)\n",
    "\n",
    "# output the residuals for each leaf node\n",
    "leaf_nodes = model.apply(X)\n",
    "leaf_values = {}\n",
    "\n",
    "# output the residuals for each leaf node\n",
    "for i in np.unique(leaf_nodes):\n",
    "    avg_residual = np.mean(y[leaf_nodes == i])\n",
    "    leaf_values[i] = avg_residual\n",
    "    \n",
    "    print(f\"Leaf {i}: {avg_residual}\")\n",
    "    \n",
    "\n",
    "# (e) Choose at least two samples from each leaf node and output their predicted values\n",
    "# using decision tree 1\n",
    "for leaf_index, leaf_value in leaf_values.items():\n",
    "    # select two samples from the leaf node\n",
    "    samples = np.random.choice(np.where(leaf_nodes == leaf_index)[0], 2)\n",
    "    for sample in samples:\n",
    "        print(f\"Leaf {leaf_index}, Sample {sample}: {leaf_value}\")"
   ]
  },
  {
   "cell_type": "markdown",
   "metadata": {},
   "source": [
    "continue the process and train 9 more decision trees. For each decision tree k, output the values γjk corresponding to the leaf nodes."
   ]
  },
  {
   "cell_type": "markdown",
   "metadata": {},
   "source": [
    "For an example sample, show (in your python file) how you can predict using the decision trees combine their results using the γjk values"
   ]
  },
  {
   "cell_type": "code",
   "execution_count": 18,
   "metadata": {},
   "outputs": [
    {
     "name": "stdout",
     "output_type": "stream",
     "text": [
      "Leaf 2: 0.012121212121212132\n",
      "Leaf 3: 0.36363636363636365\n",
      "Leaf 5: -0.6363636363636364\n",
      "Leaf 6: 0.36363636363636365\n",
      "Leaf 2: 0.012121212121212132\n",
      "Leaf 3: 0.36363636363636365\n",
      "Leaf 5: 0.36363636363636365\n",
      "Leaf 6: -0.6363636363636364\n",
      "Leaf 2: 0.012121212121212132\n",
      "Leaf 3: 0.36363636363636365\n",
      "Leaf 5: -0.6363636363636364\n",
      "Leaf 6: 0.36363636363636365\n",
      "Leaf 2: 0.012121212121212132\n",
      "Leaf 3: 0.36363636363636365\n",
      "Leaf 5: -0.6363636363636364\n",
      "Leaf 6: 0.36363636363636365\n",
      "Leaf 2: 0.012121212121212132\n",
      "Leaf 3: 0.36363636363636365\n",
      "Leaf 5: 0.36363636363636365\n",
      "Leaf 6: -0.6363636363636364\n",
      "Leaf 2: 0.012121212121212132\n",
      "Leaf 3: 0.36363636363636365\n",
      "Leaf 5: 0.36363636363636365\n",
      "Leaf 6: -0.6363636363636364\n",
      "Leaf 2: 0.012121212121212132\n",
      "Leaf 3: 0.36363636363636365\n",
      "Leaf 5: 0.36363636363636365\n",
      "Leaf 6: -0.6363636363636364\n",
      "Leaf 2: 0.012121212121212132\n",
      "Leaf 3: 0.36363636363636365\n",
      "Leaf 5: -0.6363636363636364\n",
      "Leaf 6: 0.36363636363636365\n",
      "Leaf 2: 0.012121212121212132\n",
      "Leaf 3: 0.36363636363636365\n",
      "Leaf 5: 0.36363636363636365\n",
      "Leaf 6: -0.6363636363636364\n",
      "[ 2.06733736  0.3097616   0.3097616   0.3097616   0.3097616   0.3097616\n",
      " -5.52660203  2.06733736  1.71582221  0.3097616   0.3097616   0.3097616\n",
      "  3.47339797  0.3097616  -5.52660203  0.3097616   0.3097616   0.3097616\n",
      "  1.71582221  0.3097616 ]\n"
     ]
    }
   ],
   "source": [
    "# train nine more decision trees on the residuals\n",
    "models = []\n",
    "\n",
    "for i in range(1,10):\n",
    "    \n",
    "    r = residuals(data_set) - model.predict(X)\n",
    "    \n",
    "    new_tree = DecisionTreeRegressor(max_depth=2)\n",
    "    \n",
    "    new_tree.fit(X, r)\n",
    "    \n",
    "    models.append(new_tree)\n",
    "    \n",
    "    leaf_nodes = new_tree.apply(X)\n",
    "    \n",
    "    for leaf_index in np.unique(leaf_nodes):\n",
    "        avg_residual = np.mean(r[leaf_nodes == leaf_index])\n",
    "        leaf_values[leaf_index] = avg_residual\n",
    "        \n",
    "        print(f\"Leaf {leaf_index}: {avg_residual}\")\n",
    "        \n",
    "        \n",
    "# predict using the decision trees and combine the results using the residuals\n",
    "predictions = np.zeros(data_set.shape[0])\n",
    "\n",
    "for model in models:\n",
    "    predictions += model.predict(X)\n",
    "    \n",
    "final_predictions = log_odds(data_set) + predictions\n",
    "\n",
    "print(final_predictions)\n",
    "\n",
    "        "
   ]
  }
 ],
 "metadata": {
  "kernelspec": {
   "display_name": "Python 3",
   "language": "python",
   "name": "python3"
  },
  "language_info": {
   "codemirror_mode": {
    "name": "ipython",
    "version": 3
   },
   "file_extension": ".py",
   "mimetype": "text/x-python",
   "name": "python",
   "nbconvert_exporter": "python",
   "pygments_lexer": "ipython3",
   "version": "3.11.9"
  }
 },
 "nbformat": 4,
 "nbformat_minor": 2
}
