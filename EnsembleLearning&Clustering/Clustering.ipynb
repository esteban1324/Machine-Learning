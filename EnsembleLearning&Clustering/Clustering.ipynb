{
 "cells": [
  {
   "cell_type": "code",
   "execution_count": 10,
   "metadata": {},
   "outputs": [],
   "source": [
    "# imports \n",
    "import numpy as np\n",
    "import pandas as pd\n",
    "from sklearn.cluster import KMeans\n",
    "from sklearn.cluster import AgglomerativeClustering\n",
    "from sklearn.preprocessing import StandardScaler\n",
    "from sklearn.metrics import accuracy_score\n",
    "from scipy.spatial.distance import  cdist   \n",
    "from scipy.cluster import hierarchy\n",
    "import scipy.cluster as sc\n",
    "\n",
    "\n"
   ]
  },
  {
   "cell_type": "markdown",
   "metadata": {},
   "source": [
    "Load the two moons data provided in “twomoons.csv”. The data contains two interleaved half-circle clusters (“moons”), where the third column denotes which cluster each example belongs to (out of two). Using only the 2 features (first 2 columns).\n"
   ]
  },
  {
   "cell_type": "code",
   "execution_count": 11,
   "metadata": {},
   "outputs": [],
   "source": [
    "df = pd.read_csv('twomoons.csv')    # read the data\n",
    "\n",
    "X = np.array(df.iloc[:, [0, 1]])   # convert the data to numpy array\n",
    "y_true = np.array(df.iloc[:, 2])   # get the true labels\n",
    "\n",
    "scaler = StandardScaler()   # create a scaler object\n",
    "\n",
    "X = scaler.fit_transform(X)   # scale the data"
   ]
  },
  {
   "cell_type": "markdown",
   "metadata": {},
   "source": [
    "Kmeans clustering with n = 2 "
   ]
  },
  {
   "cell_type": "code",
   "execution_count": 12,
   "metadata": {},
   "outputs": [
    {
     "name": "stdout",
     "output_type": "stream",
     "text": [
      "Clusters SSE  [41.87412868894992, 41.49533639092751]\n",
      "Cluster SSE when k is 2 = 41.87412868894992\n",
      "Kmeans Misclassification rate = 0.15000000000000002\n"
     ]
    }
   ],
   "source": [
    "kmeans = KMeans(n_clusters=2, random_state=26).fit(X)   # create a kmeans object and fit the data\n",
    "# predict the clusters\n",
    "y_kmeans = kmeans.predict(X)\n",
    "\n",
    "\n",
    "# calculate the sum of squared errors (SSE)\n",
    "cluster_centers =  kmeans.cluster_centers_\n",
    "\n",
    "cluster_sse = [0, 0]\n",
    "for point, label in zip(X, kmeans.labels_):\n",
    "    cluster_sse[label] += np.linalg.norm(point - cluster_centers[label])**2\n",
    "\n",
    "print('Clusters SSE ', cluster_sse)\n",
    "print('Cluster SSE when k is 2 =', cluster_sse[0])\n",
    "\n",
    "# calculate the misclassification rate\n",
    "mis_classification_rate = 1 - accuracy_score(y_true, y_kmeans)\n",
    "print('Kmeans Misclassification rate =', mis_classification_rate)\n"
   ]
  },
  {
   "cell_type": "code",
   "execution_count": 19,
   "metadata": {},
   "outputs": [
    {
     "name": "stdout",
     "output_type": "stream",
     "text": [
      "Agglomerative Clustering Single Linkage SSE = [195.43664033808255, 0.0]\n"
     ]
    }
   ],
   "source": [
    "# create an agglomerative clustering object\n",
    "agg_single = AgglomerativeClustering(n_clusters=2, linkage='single')\n",
    "y_pred_single = agg_single.fit_predict(X)\n",
    "\n",
    "# calculate the sse and misclassification rate for agglomerative clustering using single linkage\n",
    "agg_cluster_sse = [0, 0]\n",
    "clusters_single = [X[y_pred_single == i] for i in range(2)]\n",
    "centroids_single = [np.mean(cluster, axis=0) for cluster in clusters_single]\n",
    "# calculate the sum of squared errors (SSE) with single linkage Single linkage: For each pair of cluster, consider the minimum \n",
    "\n",
    " \n",
    "    \n",
    "print('Agglomerative Clustering Single Linkage SSE =', agg_cluster_sse)\n",
    "\n",
    "\n",
    "\n",
    "\n"
   ]
  }
 ],
 "metadata": {
  "kernelspec": {
   "display_name": "Python 3",
   "language": "python",
   "name": "python3"
  },
  "language_info": {
   "codemirror_mode": {
    "name": "ipython",
    "version": 3
   },
   "file_extension": ".py",
   "mimetype": "text/x-python",
   "name": "python",
   "nbconvert_exporter": "python",
   "pygments_lexer": "ipython3",
   "version": "3.11.4"
  }
 },
 "nbformat": 4,
 "nbformat_minor": 2
}
