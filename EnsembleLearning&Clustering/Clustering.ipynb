{
 "cells": [
  {
   "cell_type": "code",
   "execution_count": 25,
   "metadata": {},
   "outputs": [],
   "source": [
    "# imports \n",
    "import numpy as np\n",
    "import pandas as pd\n",
    "from sklearn.cluster import KMeans\n",
    "from sklearn.cluster import AgglomerativeClustering\n",
    "from sklearn.preprocessing import StandardScaler\n",
    "from sklearn.metrics import accuracy_score\n",
    "from scipy.spatial import  distance \n",
    "from scipy.cluster import hierarchy\n",
    "from sklearn.metrics import mean_squared_error\n",
    "import scipy.cluster as sc\n",
    "\n",
    "\n"
   ]
  },
  {
   "cell_type": "markdown",
   "metadata": {},
   "source": [
    "Load the two moons data provided in “twomoons.csv”. The data contains two interleaved half-circle clusters (“moons”), where the third column denotes which cluster each example belongs to (out of two). Using only the 2 features (first 2 columns).\n"
   ]
  },
  {
   "cell_type": "code",
   "execution_count": 26,
   "metadata": {},
   "outputs": [],
   "source": [
    "df = pd.read_csv('twomoons.csv')    # read the data\n",
    "\n",
    "X = np.array(df.iloc[:, [0, 1]])   # convert the data to numpy array\n",
    "y_true = np.array(df.iloc[:, 2])   # get the true labels"
   ]
  },
  {
   "cell_type": "markdown",
   "metadata": {},
   "source": [
    "Kmeans clustering with n = 2 "
   ]
  },
  {
   "cell_type": "code",
   "execution_count": 27,
   "metadata": {},
   "outputs": [
    {
     "name": "stdout",
     "output_type": "stream",
     "text": [
      "Clusters SSE  42.6523908926\n",
      "Kmeans Misclassification rate = 0.78\n"
     ]
    }
   ],
   "source": [
    "kmeans = KMeans(n_clusters=2, random_state=10).fit(X)   # create a kmeans object and fit the data\n",
    "# predict the clusters\n",
    "y_kmeans = kmeans.predict(X)\n",
    "\n",
    "\n",
    "# calculate the sum of squared errors (SSE)\n",
    "sse = kmeans.inertia_\n",
    "print('Clusters SSE ', sse)\n",
    "\n",
    "# calculate the misclassification rate\n",
    "mis_classification_rate = 1 - accuracy_score(y_true, y_kmeans)\n",
    "print('Kmeans Misclassification rate =', mis_classification_rate)\n"
   ]
  },
  {
   "cell_type": "code",
   "execution_count": 28,
   "metadata": {},
   "outputs": [
    {
     "name": "stdout",
     "output_type": "stream",
     "text": [
      "Agglomerative Misclassification rate = 0.79\n",
      "Agglomerative SSE = 0.5407403991143294\n"
     ]
    },
    {
     "name": "stderr",
     "output_type": "stream",
     "text": [
      "c:\\Users\\esteb\\AppData\\Local\\Programs\\Python\\Python311\\Lib\\site-packages\\sklearn\\metrics\\_regression.py:483: FutureWarning: 'squared' is deprecated in version 1.4 and will be removed in 1.6. To calculate the root mean squared error, use the function'root_mean_squared_error'.\n",
      "  warnings.warn(\n"
     ]
    }
   ],
   "source": [
    "# create an agglomerative clustering object\n",
    "\n",
    "\n",
    "k=2\n",
    "agg = AgglomerativeClustering(n_clusters=k).fit(X)\n",
    "y_pred = agg.labels_\n",
    "\n",
    "mis_classification_rate = 1 - accuracy_score(y_true, y_pred)\n",
    "print('Agglomerative Misclassification rate =', mis_classification_rate)\n",
    "\n",
    "# calculate the sse and misclassification rate for agglomerative clustering using single linkage\n",
    "sse_agg = mean_squared_error(X, kmeans.cluster_centers_[y_pred], squared=False)\n",
    "print('Agglomerative SSE =', sse_agg)\n",
    "\n",
    "\n",
    "\n",
    "\n",
    "\n"
   ]
  }
 ],
 "metadata": {
  "kernelspec": {
   "display_name": "Python 3",
   "language": "python",
   "name": "python3"
  },
  "language_info": {
   "codemirror_mode": {
    "name": "ipython",
    "version": 3
   },
   "file_extension": ".py",
   "mimetype": "text/x-python",
   "name": "python",
   "nbconvert_exporter": "python",
   "pygments_lexer": "ipython3",
   "version": "3.11.4"
  }
 },
 "nbformat": 4,
 "nbformat_minor": 2
}
