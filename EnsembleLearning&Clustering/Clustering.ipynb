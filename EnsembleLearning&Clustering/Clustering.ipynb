{
 "cells": [
  {
   "cell_type": "code",
   "execution_count": 27,
   "metadata": {},
   "outputs": [],
   "source": [
    "# imports \n",
    "import numpy as np\n",
    "import pandas as pd\n",
    "from sklearn.cluster import KMeans\n",
    "from sklearn.cluster import AgglomerativeClustering\n",
    "from sklearn.preprocessing import StandardScaler\n",
    "from sklearn.metrics import accuracy_score\n",
    "from scipy.spatial.distance import  cdist   \n",
    "\n",
    "\n"
   ]
  },
  {
   "cell_type": "markdown",
   "metadata": {},
   "source": [
    "Load the two moons data provided in “twomoons.csv”. The data contains two interleaved half-circle clusters (“moons”), where the third column denotes which cluster each example belongs to (out of two). Using only the 2 features (first 2 columns).\n"
   ]
  },
  {
   "cell_type": "code",
   "execution_count": 28,
   "metadata": {},
   "outputs": [],
   "source": [
    "df = pd.read_csv('twomoons.csv')    # read the data\n",
    "\n",
    "X = np.array(df.iloc[:, [0, 1]])   # convert the data to numpy array\n",
    "y_true = np.array(df.iloc[:, 2])   # get the true labels\n",
    "\n",
    "scaler = StandardScaler()   # create a scaler object\n",
    "\n",
    "X = scaler.fit_transform(X)   # scale the data"
   ]
  },
  {
   "cell_type": "markdown",
   "metadata": {},
   "source": [
    "Kmeans clustering with n = 2 "
   ]
  },
  {
   "cell_type": "code",
   "execution_count": 29,
   "metadata": {},
   "outputs": [
    {
     "name": "stdout",
     "output_type": "stream",
     "text": [
      "Clusters SSE  [41.87412868894992, 41.49533639092751]\n",
      "Cluster SSE when k is 2 = 41.87412868894992\n",
      "Kmeans Misclassification rate = 0.15000000000000002\n"
     ]
    },
    {
     "name": "stderr",
     "output_type": "stream",
     "text": [
      "C:\\Users\\esteb\\AppData\\Local\\Packages\\PythonSoftwareFoundation.Python.3.11_qbz5n2kfra8p0\\LocalCache\\local-packages\\Python311\\site-packages\\sklearn\\cluster\\_kmeans.py:1416: FutureWarning: The default value of `n_init` will change from 10 to 'auto' in 1.4. Set the value of `n_init` explicitly to suppress the warning\n",
      "  super()._check_params_vs_input(X, default_n_init=10)\n"
     ]
    }
   ],
   "source": [
    "kmeans = KMeans(n_clusters=2, random_state=26).fit(X)   # create a kmeans object and fit the data\n",
    "\n",
    "# calculate the sum of squared errors (SSE)\n",
    "cluster_centers =  kmeans.cluster_centers_\n",
    "\n",
    "cluster_sse = [0, 0]\n",
    "for point, label in zip(X, kmeans.labels_):\n",
    "    cluster_sse[label] += np.linalg.norm(point - cluster_centers[label])**2\n",
    "\n",
    "print('Clusters SSE ', cluster_sse)\n",
    "\n",
    "print('Cluster SSE when k is 2 =', cluster_sse[0])\n",
    "\n",
    "# predict the clusters\n",
    "y_kmeans = kmeans.predict(X)\n",
    "\n",
    "# calculate the misclassification rate\n",
    "mis_classification_rate = 1 - accuracy_score(y_true, y_kmeans)\n",
    "\n",
    "print('Kmeans Misclassification rate =', mis_classification_rate)\n"
   ]
  },
  {
   "cell_type": "code",
   "execution_count": 30,
   "metadata": {},
   "outputs": [],
   "source": [
    "# create an agglomerative clustering object\n",
    "agg = AgglomerativeClustering(n_clusters=2)\n",
    "\n",
    "#  fit the data and predict the clusters\n",
    "y_pred = agg.fit_predict(X)\n",
    "\n",
    "\n"
   ]
  }
 ],
 "metadata": {
  "kernelspec": {
   "display_name": "Python 3",
   "language": "python",
   "name": "python3"
  },
  "language_info": {
   "codemirror_mode": {
    "name": "ipython",
    "version": 3
   },
   "file_extension": ".py",
   "mimetype": "text/x-python",
   "name": "python",
   "nbconvert_exporter": "python",
   "pygments_lexer": "ipython3",
   "version": "3.11.9"
  }
 },
 "nbformat": 4,
 "nbformat_minor": 2
}
