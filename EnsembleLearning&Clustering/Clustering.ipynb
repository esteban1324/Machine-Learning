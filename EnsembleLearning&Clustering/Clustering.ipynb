{
 "cells": [
  {
   "cell_type": "code",
   "execution_count": 18,
   "metadata": {},
   "outputs": [],
   "source": [
    "# imports \n",
    "import numpy as np\n",
    "import pandas as pd\n",
    "from sklearn.cluster import KMeans\n",
    "from sklearn.cluster import AgglomerativeClustering\n",
    "from sklearn.preprocessing import StandardScaler\n",
    "from sklearn.metrics import accuracy_score\n",
    "from scipy.spatial import  distance \n",
    "from scipy.cluster import hierarchy\n",
    "import scipy.cluster as sc\n",
    "\n",
    "\n"
   ]
  },
  {
   "cell_type": "markdown",
   "metadata": {},
   "source": [
    "Load the two moons data provided in “twomoons.csv”. The data contains two interleaved half-circle clusters (“moons”), where the third column denotes which cluster each example belongs to (out of two). Using only the 2 features (first 2 columns).\n"
   ]
  },
  {
   "cell_type": "code",
   "execution_count": 19,
   "metadata": {},
   "outputs": [],
   "source": [
    "df = pd.read_csv('twomoons.csv')    # read the data\n",
    "\n",
    "X = np.array(df.iloc[:, [0, 1]])   # convert the data to numpy array\n",
    "y_true = np.array(df.iloc[:, 2])   # get the true labels\n",
    "\n",
    "scaler = StandardScaler()   # create a scaler object\n",
    "\n",
    "X = scaler.fit_transform(X)   # scale the data"
   ]
  },
  {
   "cell_type": "markdown",
   "metadata": {},
   "source": [
    "Kmeans clustering with n = 2 "
   ]
  },
  {
   "cell_type": "code",
   "execution_count": 20,
   "metadata": {},
   "outputs": [
    {
     "name": "stdout",
     "output_type": "stream",
     "text": [
      "Clusters SSE  [41.87412868894992, 41.49533639092751]\n",
      "Cluster SSE when k is 2 = 41.87412868894992\n",
      "Kmeans Misclassification rate = 0.15000000000000002\n"
     ]
    }
   ],
   "source": [
    "kmeans = KMeans(n_clusters=2, random_state=26).fit(X)   # create a kmeans object and fit the data\n",
    "# predict the clusters\n",
    "y_kmeans = kmeans.predict(X)\n",
    "\n",
    "\n",
    "# calculate the sum of squared errors (SSE)\n",
    "cluster_centers =  kmeans.cluster_centers_\n",
    "\n",
    "cluster_sse = [0, 0]\n",
    "for point, label in zip(X, kmeans.labels_):\n",
    "    cluster_sse[label] += np.linalg.norm(point - cluster_centers[label])**2\n",
    "\n",
    "print('Clusters SSE ', cluster_sse)\n",
    "print('Cluster SSE when k is 2 =', cluster_sse[0])\n",
    "\n",
    "# calculate the misclassification rate\n",
    "mis_classification_rate = 1 - accuracy_score(y_true, y_kmeans)\n",
    "print('Kmeans Misclassification rate =', mis_classification_rate)\n"
   ]
  },
  {
   "cell_type": "code",
   "execution_count": 21,
   "metadata": {},
   "outputs": [
    {
     "name": "stdout",
     "output_type": "stream",
     "text": [
      "Agglomerative Clustering ward Linkage SSE = 63.71447253277438\n",
      "Agglomerative Clustering ward Linkage Misclassification rate = 0.12\n",
      "Agglomerative Clustering single Linkage SSE = 195.43664033808255\n",
      "Agglomerative Clustering single Linkage Misclassification rate = 0.51\n",
      "Agglomerative Clustering complete Linkage SSE = 67.78792019783519\n",
      "Agglomerative Clustering complete Linkage Misclassification rate = 0.85\n",
      "Agglomerative Clustering average Linkage SSE = 63.71447253277438\n",
      "Agglomerative Clustering average Linkage Misclassification rate = 0.12\n"
     ]
    },
    {
     "data": {
      "text/plain": [
       "'\\nagg_cluster_sse = [0, 0]\\nclusters = [X[y_pred == i] for i in range(k)]\\ncentroids = [np.mean(cluster, axis=0) for cluster in clusters]\\n# calculate the sum of squared errors (SSE) with all the linkages:\\nfor point, label in zip(X, y_pred):\\n    agg_cluster_sse[label] += np.linalg.norm(point - centroids[label])**2\\n   '"
      ]
     },
     "execution_count": 21,
     "metadata": {},
     "output_type": "execute_result"
    }
   ],
   "source": [
    "# create an agglomerative clustering object\n",
    "\n",
    "'''\n",
    "k=2\n",
    "linkage =[ 'single', 'complete', 'average']\n",
    "agg = AgglomerativeClustering(n_clusters=k, linkage=linkage).fit(X)\n",
    "y_pred = agg.labels_\n",
    "'''\n",
    "k = 2\n",
    "linkage =['ward', 'single', 'complete', 'average']\n",
    "\n",
    "# calculate the sse and misclassification rate for agglomerative clustering using single linkage\n",
    "\n",
    "for link in linkage:\n",
    "    agg = AgglomerativeClustering(n_clusters=k, linkage=link).fit(X)\n",
    "    y_pred = agg.labels_\n",
    "    clusters = [X[y_pred == i] for i in range(k)]\n",
    "    centroids = [np.mean(cluster, axis=0) for cluster in clusters]\n",
    "    agg_cluster_sse = [0, 0]\n",
    "    # calculate the sum of squared errors (SSE) with all the linkages:\n",
    "    for point, label in zip(X, y_pred):\n",
    "       agg_cluster_sse[label] += np.square(distance.euclidean(point, centroids[label]))\n",
    "       \n",
    "    print('Agglomerative Clustering', link, 'Linkage SSE =', agg_cluster_sse[0])\n",
    "    print('Agglomerative Clustering', link, 'Linkage Misclassification rate =', 1 - accuracy_score(y_true, y_pred))\n",
    "\n",
    "'''\n",
    "agg_cluster_sse = [0, 0]\n",
    "clusters = [X[y_pred == i] for i in range(k)]\n",
    "centroids = [np.mean(cluster, axis=0) for cluster in clusters]\n",
    "# calculate the sum of squared errors (SSE) with all the linkages:\n",
    "for point, label in zip(X, y_pred):\n",
    "    agg_cluster_sse[label] += np.linalg.norm(point - centroids[label])**2\n",
    "   ''' \n",
    " \n",
    "\n",
    " \n",
    "    \n",
    "\n",
    "\n",
    "\n",
    "\n"
   ]
  }
 ],
 "metadata": {
  "kernelspec": {
   "display_name": "Python 3",
   "language": "python",
   "name": "python3"
  },
  "language_info": {
   "codemirror_mode": {
    "name": "ipython",
    "version": 3
   },
   "file_extension": ".py",
   "mimetype": "text/x-python",
   "name": "python",
   "nbconvert_exporter": "python",
   "pygments_lexer": "ipython3",
   "version": "3.11.4"
  }
 },
 "nbformat": 4,
 "nbformat_minor": 2
}
