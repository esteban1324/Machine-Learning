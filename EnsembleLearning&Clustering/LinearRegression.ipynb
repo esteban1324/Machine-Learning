{
 "cells": [
  {
   "cell_type": "code",
   "execution_count": 1,
   "metadata": {},
   "outputs": [],
   "source": [
    "# imports \n",
    "import numpy as np\n",
    "import sklearn.datasets as skdata\n",
    "from sklearn.model_selection import train_test_split \n",
    "from sklearn.metrics import mean_absolute_error\n",
    "from sklearn.linear_model import LinearRegression\n",
    "from sklearn.preprocessing import PolynomialFeatures"
   ]
  },
  {
   "cell_type": "markdown",
   "metadata": {},
   "source": [
    "Output the correlation matrix and select 2 features with highest correlation with the target variable."
   ]
  },
  {
   "cell_type": "code",
   "execution_count": 20,
   "metadata": {},
   "outputs": [
    {
     "name": "stdout",
     "output_type": "stream",
     "text": [
      "[[ 1.         -0.08683167  0.88888956  0.84167128  0.82065235]\n",
      " [-0.08683167  1.         -0.3750757  -0.32000041 -0.37861688]\n",
      " [ 0.88888956 -0.3750757   1.          0.9649918   0.95470773]\n",
      " [ 0.84167128 -0.32000041  0.9649918   1.          0.96117848]\n",
      " [ 0.82065235 -0.37861688  0.95470773  0.96117848  1.        ]]\n",
      "Top 2 features are:  [2 3]\n"
     ]
    }
   ],
   "source": [
    "# load the iris dataset\n",
    "\n",
    "iris = skdata.load_iris()\n",
    "\n",
    "\n",
    "# get the data and target\n",
    "X = np.asarray(iris.data)\n",
    "y = np.asarray(iris.target)\n",
    "\n",
    "\n",
    "# split the data 80 20 split\n",
    "X_train, X_test, y_train, y_test = train_test_split(X, y, test_size=0.2)\n",
    "\n",
    "# output a correlation matrix of the features\n",
    "cm = np.corrcoef(X_train.T, y_train)\n",
    "cm_with_target = cm[-1][:-1]\n",
    "top_2_features_indices = np.argsort(cm_with_target)[-2:]\n",
    "top_2_features = X_train[:, top_2_features_indices]\n",
    "\n",
    "print(cm)\n",
    "\n",
    "print(\"Top 2 features are: \", top_2_features_indices)\n"
   ]
  },
  {
   "cell_type": "markdown",
   "metadata": {},
   "source": [
    "Train an OLS model (linear regression) using the 2 features and report the Mean Absolute Error (MAE) on the testing dataset"
   ]
  },
  {
   "cell_type": "code",
   "execution_count": 21,
   "metadata": {},
   "outputs": [
    {
     "name": "stdout",
     "output_type": "stream",
     "text": [
      "MAE:  0.21690380886600008\n"
     ]
    }
   ],
   "source": [
    "# train an OLS regressor using the top 2 features and MAE \n",
    "# on the test set\n",
    "\n",
    "model = LinearRegression()\n",
    "model.fit(top_2_features, y_train)\n",
    "y_pred = model.predict(X_test[:, top_2_features_indices])\n",
    "mae = mean_absolute_error(y_test, y_pred)\n",
    "\n",
    "print(\"MAE: \", mae)\n",
    "\n"
   ]
  },
  {
   "cell_type": "markdown",
   "metadata": {},
   "source": [
    "Now train a quadratic model by transforming the 2 features in polynomial features and training a linear regression model. Report the Mean Absolute Error (MAE) on the testing dataset."
   ]
  },
  {
   "cell_type": "code",
   "execution_count": 24,
   "metadata": {},
   "outputs": [
    {
     "name": "stdout",
     "output_type": "stream",
     "text": [
      "MAE:  0.19331155050293164\n"
     ]
    }
   ],
   "source": [
    "\n",
    "# transform the features into a polynomial feature space\n",
    "poly = PolynomialFeatures(2)\n",
    "X_train_poly = poly.fit_transform(X_train)\n",
    "X_test_poly = poly.transform(X_test)\n",
    "\n",
    "# train an OLS regressor using the polynomial features and MAE\n",
    "model = LinearRegression()\n",
    "model.fit(X_train_poly, y_train)\n",
    "y_pred = model.predict(X_test_poly)\n",
    "mae = mean_absolute_error(y_test, y_pred)\n",
    "\n",
    "print(\"MAE: \", mae)\n"
   ]
  }
 ],
 "metadata": {
  "kernelspec": {
   "display_name": "Python 3",
   "language": "python",
   "name": "python3"
  },
  "language_info": {
   "codemirror_mode": {
    "name": "ipython",
    "version": 3
   },
   "file_extension": ".py",
   "mimetype": "text/x-python",
   "name": "python",
   "nbconvert_exporter": "python",
   "pygments_lexer": "ipython3",
   "version": "3.11.9"
  }
 },
 "nbformat": 4,
 "nbformat_minor": 2
}
