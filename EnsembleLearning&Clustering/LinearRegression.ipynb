{
 "cells": [
  {
   "cell_type": "code",
   "execution_count": 1,
   "metadata": {},
   "outputs": [],
   "source": [
    "# imports \n",
    "import numpy as np\n",
    "import sklearn.datasets as skdata\n",
    "from sklearn.model_selection import train_test_split \n",
    "from sklearn.metrics import mean_absolute_error\n",
    "from sklearn.linear_model import LinearRegression\n",
    "from sklearn.preprocessing import PolynomialFeatures\n",
    "import pandas as pd"
   ]
  },
  {
   "cell_type": "markdown",
   "metadata": {},
   "source": [
    "Output the correlation matrix and select 2 features with highest correlation with the target variable."
   ]
  },
  {
   "cell_type": "code",
   "execution_count": 2,
   "metadata": {},
   "outputs": [
    {
     "name": "stdout",
     "output_type": "stream",
     "text": [
      "[[ 1.         -0.16947251  0.86302463  0.81180492  0.76981913]\n",
      " [-0.16947251  1.         -0.49018343 -0.41966703 -0.47756569]\n",
      " [ 0.86302463 -0.49018343  1.          0.96233811  0.94969243]\n",
      " [ 0.81180492 -0.41966703  0.96233811  1.          0.95944743]\n",
      " [ 0.76981913 -0.47756569  0.94969243  0.95944743  1.        ]]\n",
      "Top 2 features are:  [2 3]\n",
      "     petal length (cm)  petal width (cm)\n",
      "0                  4.6               1.5\n",
      "1                  5.0               2.0\n",
      "2                  6.1               2.3\n",
      "3                  1.4               0.2\n",
      "4                  5.3               2.3\n",
      "..                 ...               ...\n",
      "115                6.9               2.3\n",
      "116                4.2               1.5\n",
      "117                5.9               2.3\n",
      "118                4.0               1.0\n",
      "119                5.6               2.2\n",
      "\n",
      "[120 rows x 2 columns]\n"
     ]
    }
   ],
   "source": [
    "# load the iris dataset\n",
    "\n",
    "iris = skdata.load_iris()\n",
    "\n",
    "\n",
    "# get the data and target\n",
    "X = np.asarray(iris.data)\n",
    "y = np.asarray(iris.target)\n",
    "\n",
    "\n",
    "# split the data 80 20 split\n",
    "X_train, X_test, y_train, y_test = train_test_split(X, y, test_size=0.2, random_state=25)\n",
    "\n",
    "# output a correlation matrix of the features\n",
    "cm = np.corrcoef(X_train.T, y_train)\n",
    "cm_with_target = cm[-1][:-1]\n",
    "top_2_features_indices = np.argsort(cm_with_target)[-2:]\n",
    "top_2_features = X_train[:, top_2_features_indices]\n",
    "\n",
    "print(cm)\n",
    "\n",
    "print(\"Top 2 features are: \", top_2_features_indices)\n",
    "\n",
    "# output the top 2 features column \n",
    "df = pd.DataFrame\n",
    "df = pd.DataFrame(data=X_train, columns=iris.feature_names)\n",
    "df = df.iloc[:, top_2_features_indices]\n",
    "print(df)\n",
    "\n"
   ]
  },
  {
   "cell_type": "markdown",
   "metadata": {},
   "source": [
    "Train an OLS model (linear regression) using the 2 features and report the Mean Absolute Error (MAE) on the testing dataset"
   ]
  },
  {
   "cell_type": "code",
   "execution_count": 3,
   "metadata": {},
   "outputs": [
    {
     "name": "stdout",
     "output_type": "stream",
     "text": [
      "MAE:  0.17212330416759655\n"
     ]
    }
   ],
   "source": [
    "# train an OLS regressor using the top 2 features and MAE \n",
    "# on the test set\n",
    "\n",
    "model = LinearRegression()\n",
    "model.fit(top_2_features, y_train)\n",
    "y_pred = model.predict(X_test[:, top_2_features_indices])\n",
    "mae = mean_absolute_error(y_test, y_pred)\n",
    "\n",
    "print(\"MAE: \", mae)\n",
    "\n"
   ]
  },
  {
   "cell_type": "markdown",
   "metadata": {},
   "source": [
    "Now train a quadratic model by transforming the 2 features in polynomial features and training a linear regression model. Report the Mean Absolute Error (MAE) on the testing dataset."
   ]
  },
  {
   "cell_type": "code",
   "execution_count": 4,
   "metadata": {},
   "outputs": [
    {
     "name": "stdout",
     "output_type": "stream",
     "text": [
      "MAE:  0.17651276620569006\n"
     ]
    }
   ],
   "source": [
    "\n",
    "# transform the features into a polynomial feature space\n",
    "poly = PolynomialFeatures(2, include_bias=False)\n",
    "X_train_poly = poly.fit_transform(top_2_features)\n",
    "X_test_poly = poly.transform(X_test[:,top_2_features_indices])\n",
    "\n",
    "# train an OLS regressor using the polynomial features and MAE\n",
    "poly_model = LinearRegression()\n",
    "# top two features for the training set. \n",
    "\n",
    "poly_model.fit(X_train_poly, y_train)\n",
    "y_pred = poly_model.predict(X_test_poly)\n",
    "mae = mean_absolute_error(y_test, y_pred)\n",
    "\n",
    "print(\"MAE: \", mae)\n"
   ]
  }
 ],
 "metadata": {
  "kernelspec": {
   "display_name": "Python 3",
   "language": "python",
   "name": "python3"
  },
  "language_info": {
   "codemirror_mode": {
    "name": "ipython",
    "version": 3
   },
   "file_extension": ".py",
   "mimetype": "text/x-python",
   "name": "python",
   "nbconvert_exporter": "python",
   "pygments_lexer": "ipython3",
   "version": "3.11.4"
  }
 },
 "nbformat": 4,
 "nbformat_minor": 2
}
