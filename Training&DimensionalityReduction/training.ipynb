{
 "cells": [
  {
   "cell_type": "markdown",
   "metadata": {},
   "source": [
    "Training and Testing a Simple Logistic Regression model on Wine Dataset"
   ]
  },
  {
   "cell_type": "markdown",
   "metadata": {},
   "source": [
    "In this notebook, there will be training and testing for a 70-30 ratio. There will be 3 penalty parameters like \"none\", \"l1\" and \"l2\" for difference regularization parameters C.  "
   ]
  },
  {
   "cell_type": "code",
   "execution_count": 52,
   "metadata": {},
   "outputs": [],
   "source": [
    "# imports \n",
    "\n",
    "import numpy as np\n",
    "import pandas as pd\n",
    "import matplotlib.pyplot as plt\n",
    "import sklearn as sk\n",
    "from sklearn.model_selection import train_test_split\n",
    "from sklearn.preprocessing import StandardScaler\n",
    "from sklearn.preprocessing import LabelEncoder\n",
    "from sklearn.linear_model import LogisticRegression\n",
    "from sklearn.metrics import accuracy_score"
   ]
  },
  {
   "cell_type": "markdown",
   "metadata": {},
   "source": [
    "Preprocess Data here with standardizing and scaling features as well as train/test split of 70/30"
   ]
  },
  {
   "cell_type": "code",
   "execution_count": 53,
   "metadata": {},
   "outputs": [],
   "source": [
    "# load the csv file red wine data set.\n",
    "df = pd.read_csv(\"wine_dataset.csv\")\n",
    "\n",
    "# preprocess data and encode type of data\n",
    "label_encoder = LabelEncoder()\n",
    "df['style'] = label_encoder.fit_transform(df['style'])\n",
    "\n",
    "# X should be all the other columns minus the style which 'style' is target column\n",
    "X = df.drop(columns=['style'])\n",
    "y = df['style']\n",
    "\n",
    "# split the data into training and test sets\n",
    "X_train, X_test, y_train, y_test = train_test_split(X, y, test_size = 0.3, train_size=.7, random_state = 1, stratify = y) "
   ]
  },
  {
   "cell_type": "markdown",
   "metadata": {},
   "source": [
    "Part A. Fit 7 different versions of logistic regression models where penalty is none, L1 and L2 along with different C values "
   ]
  },
  {
   "cell_type": "code",
   "execution_count": 54,
   "metadata": {},
   "outputs": [
    {
     "name": "stdout",
     "output_type": "stream",
     "text": [
      "accuracy score for no penalty and  C= 1: 0.9743589743589743\n",
      "accuracy_score for logistic regression with l1, C = 0.01: 0.9394871794871795\n",
      "accuracy_score for logistic regression with l1, C = 0.1: 0.9733333333333334\n",
      "accuracy_score for logistic regression with l1, C = 1: 0.9805128205128205\n",
      "accuracy_score for logistic regression with l2, C = 0.01: 0.9487179487179487\n",
      "accuracy_score for logistic regression with l2, C = 0.1: 0.9666666666666667\n",
      "accuracy_score for logistic regression with l2, C = 1: 0.9758974358974359\n"
     ]
    },
    {
     "name": "stderr",
     "output_type": "stream",
     "text": [
      "c:\\Users\\esteb\\AppData\\Local\\Programs\\Python\\Python311\\Lib\\site-packages\\sklearn\\linear_model\\_logistic.py:469: ConvergenceWarning: lbfgs failed to converge (status=1):\n",
      "STOP: TOTAL NO. of ITERATIONS REACHED LIMIT.\n",
      "\n",
      "Increase the number of iterations (max_iter) or scale the data as shown in:\n",
      "    https://scikit-learn.org/stable/modules/preprocessing.html\n",
      "Please also refer to the documentation for alternative solver options:\n",
      "    https://scikit-learn.org/stable/modules/linear_model.html#logistic-regression\n",
      "  n_iter_i = _check_optimize_result(\n"
     ]
    }
   ],
   "source": [
    "np.random.seed(1000)\n",
    "\n",
    "penalties = ['l1', 'l1', 'l1', 'l2', 'l2', 'l2']\n",
    "C_values = [0.01, .1, 1, 0.01, .1, 1]\n",
    "\n",
    "accuracies = []\n",
    "models = []\n",
    "# seperate one for penalty as none \n",
    "model = LogisticRegression()\n",
    "model.fit(X_train, y_train)\n",
    "y_pred = model.predict(X_test)\n",
    "accuracy = accuracy_score(y_test, y_pred)\n",
    "models.append(model)\n",
    "\n",
    "print(f'accuracy score for no penalty and  C= 1: {accuracy}')\n",
    "\n",
    "for p, C in zip(penalties, C_values):\n",
    "    model = LogisticRegression(penalty=p, solver='liblinear', C=C)\n",
    "    model.fit(X_train, y_train)\n",
    "    y_pred = model.predict(X_test)\n",
    "    accuracy = accuracy_score(y_test, y_pred) \n",
    "    models.append(model) \n",
    "    accuracies.append(accuracy)\n",
    "\n",
    "\n",
    "\n",
    "for p, C, accuracy in zip(penalties, C_values, accuracies):\n",
    "    print(f'accuracy_score for logistic regression with {p}, C = {C}: {accuracy}')"
   ]
  },
  {
   "cell_type": "markdown",
   "metadata": {},
   "source": [
    "Part B. Calulate L2 norm of the trained weights of model with no regularization "
   ]
  },
  {
   "cell_type": "code",
   "execution_count": 65,
   "metadata": {},
   "outputs": [
    {
     "name": "stdout",
     "output_type": "stream",
     "text": [
      "L2 norm of the weights for logistic regression with no penalty: 10.97150400575851\n"
     ]
    }
   ],
   "source": [
    "# get the weights of the no penalty model\n",
    "weights = models[0].coef_[0]\n",
    "\n",
    "# calcuate its L2 norm\n",
    "l2_norm = np.linalg.norm(weights, 2)\n",
    "\n",
    "print('L2 norm of the weights for logistic regression with no penalty:', l2_norm)"
   ]
  },
  {
   "cell_type": "markdown",
   "metadata": {},
   "source": [
    "Part C. Choose logistic regression model with penalty as l1 which is highest accuracy and report l2 norm"
   ]
  },
  {
   "cell_type": "code",
   "execution_count": 67,
   "metadata": {},
   "outputs": [
    {
     "name": "stdout",
     "output_type": "stream",
     "text": [
      "L1 norm of the weights for logistic regression with c = 1: 23.024567731084346\n"
     ]
    }
   ],
   "source": [
    "weights2 = models[3].coef_[0]\n",
    "\n",
    "l2_norm1 = np.linalg.norm(weights2, 2)\n",
    "\n",
    "print('L1 norm of the weights for logistic regression with c = 1:', l2_norm1)\n"
   ]
  },
  {
   "cell_type": "markdown",
   "metadata": {},
   "source": [
    "Part D. Choose logistic regression model with penalty as l2 which is highest accuracy and report l2 norm"
   ]
  },
  {
   "cell_type": "code",
   "execution_count": 68,
   "metadata": {},
   "outputs": [
    {
     "name": "stdout",
     "output_type": "stream",
     "text": [
      "L2 penality highest reg and c = 1 11.247302948510855\n"
     ]
    }
   ],
   "source": [
    "weights3 = models[6].coef_[0]\n",
    "\n",
    "l2_norm2 = np.linalg.norm(weights3, 2)\n",
    "\n",
    "print('L2 penality highest reg and c = 1', l2_norm2)"
   ]
  },
  {
   "cell_type": "markdown",
   "metadata": {},
   "source": [
    "Part E. Count number of zero weights in the three models above. "
   ]
  },
  {
   "cell_type": "code",
   "execution_count": 71,
   "metadata": {},
   "outputs": [
    {
     "name": "stdout",
     "output_type": "stream",
     "text": [
      "no penalty 0\n",
      "l1 penalty 0\n",
      "l2 penalty 0\n"
     ]
    }
   ],
   "source": [
    "weights_log0 = np.abs(models[0].coef_[0])\n",
    "weights_log3 = np.abs(models[3].coef_[0])\n",
    "weights_log6 = np.abs(models[6].coef_[0])\n",
    "\n",
    "count1 = 0 \n",
    "count2 = 0 \n",
    "count3 = 0\n",
    "\n",
    "for (weight1, weight2, weight3) in zip(weights_log0, weights_log3, weights_log6):\n",
    "    if weight1 <= 1e-5:\n",
    "        count1 += 1\n",
    "    if weight2 <= 1e-5:\n",
    "        count2 += 1\n",
    "    if weight3 <= 1e-5:\n",
    "        count3 += 1\n",
    "\n",
    "print('no penalty',count1)\n",
    "print('l1 penalty', count2)\n",
    "print('l2 penalty', count3)"
   ]
  }
 ],
 "metadata": {
  "kernelspec": {
   "display_name": "Python 3",
   "language": "python",
   "name": "python3"
  },
  "language_info": {
   "codemirror_mode": {
    "name": "ipython",
    "version": 3
   },
   "file_extension": ".py",
   "mimetype": "text/x-python",
   "name": "python",
   "nbconvert_exporter": "python",
   "pygments_lexer": "ipython3",
   "version": "3.11.4"
  }
 },
 "nbformat": 4,
 "nbformat_minor": 2
}
