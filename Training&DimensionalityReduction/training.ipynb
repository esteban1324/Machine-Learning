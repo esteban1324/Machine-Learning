{
 "cells": [
  {
   "cell_type": "markdown",
   "metadata": {},
   "source": [
    "Training and Testing a Simple Logistic Regression model on Wine Dataset"
   ]
  },
  {
   "cell_type": "markdown",
   "metadata": {},
   "source": [
    "In this notebook, there will be training and testing for a 70-30 ratio. There will be 3 penalty parameters like \"none\", \"l1\" and \"l2\" for difference regularization parameters C.  "
   ]
  },
  {
   "cell_type": "code",
   "execution_count": 28,
   "metadata": {},
   "outputs": [],
   "source": [
    "# imports \n",
    "\n",
    "import numpy as np\n",
    "import pandas as pd\n",
    "import matplotlib.pyplot as plt\n",
    "import sklearn as sk\n",
    "from sklearn.model_selection import train_test_split\n",
    "from sklearn.preprocessing import StandardScaler\n",
    "from sklearn.preprocessing import LabelEncoder\n",
    "from sklearn.linear_model import LogisticRegression\n",
    "from sklearn.metrics import accuracy_score"
   ]
  },
  {
   "cell_type": "markdown",
   "metadata": {},
   "source": [
    "Preprocess Data here with standardizing and scaling features as well as train/test split of 70/30"
   ]
  },
  {
   "cell_type": "code",
   "execution_count": 35,
   "metadata": {},
   "outputs": [],
   "source": [
    "# load the csv file red wine data set.\n",
    "df = pd.read_csv(\"wine_dataset.csv\")\n",
    "\n",
    "# preprocess data and encode type of data\n",
    "label_encoder = LabelEncoder()\n",
    "df['style'] = label_encoder.fit_transform(df['style'])\n",
    "\n",
    "# X should be all the other columns minus the style which 'style' is target column\n",
    "X = df.drop(columns=['style'])\n",
    "y = df['style']\n",
    "\n",
    "# split the data into training and test sets\n",
    "X_train, X_test, y_train, y_test = train_test_split(X, y, test_size = 0.3, train_size=.7, random_state = 1, stratify = y) "
   ]
  },
  {
   "cell_type": "markdown",
   "metadata": {},
   "source": [
    "Part A. Fit 7 different versions of logistic regression models where penalty is none, L1 and L2 along with different C values "
   ]
  },
  {
   "cell_type": "code",
   "execution_count": 36,
   "metadata": {},
   "outputs": [
    {
     "name": "stderr",
     "output_type": "stream",
     "text": [
      "C:\\Users\\esteb\\AppData\\Local\\Packages\\PythonSoftwareFoundation.Python.3.11_qbz5n2kfra8p0\\LocalCache\\local-packages\\Python311\\site-packages\\sklearn\\linear_model\\_logistic.py:460: ConvergenceWarning: lbfgs failed to converge (status=1):\n",
      "STOP: TOTAL NO. of ITERATIONS REACHED LIMIT.\n",
      "\n",
      "Increase the number of iterations (max_iter) or scale the data as shown in:\n",
      "    https://scikit-learn.org/stable/modules/preprocessing.html\n",
      "Please also refer to the documentation for alternative solver options:\n",
      "    https://scikit-learn.org/stable/modules/linear_model.html#logistic-regression\n",
      "  n_iter_i = _check_optimize_result(\n"
     ]
    },
    {
     "name": "stdout",
     "output_type": "stream",
     "text": [
      "accuracy_score for logistic regression with no penalty: 0.9743589743589743\n",
      "accuracy_score for logistic regression with L1 penalty: 0.9805128205128205\n",
      "accuracy_score for logistic regression with L1 penalty and C=0.1: 0.9733333333333334\n",
      "accuracy_score for logistic regression with L1 penalty and C=100: 0.9871794871794872\n",
      "accuracy_score for logistic regression with L2 penalty: 0.9758974358974359\n",
      "accuracy_score for logistic regression with L2 penalty and C=0.1: 0.9666666666666667\n",
      "accuracy_score for logistic regression with L2 penalty and C=100: 0.9861538461538462\n"
     ]
    }
   ],
   "source": [
    "# first model is logistic regression with default parameters and no regularization\n",
    "logreg = LogisticRegression()\n",
    "logreg.fit(X_train, y_train)\n",
    "y_pred = logreg.predict(X_test)\n",
    "print('accuracy_score for logistic regression with no penalty:', accuracy_score(y_test, y_pred))\n",
    "\n",
    "# second model is logistic regression with L1 penalty\n",
    "logreg2 = LogisticRegression(penalty = 'l1', solver = 'liblinear', C=1)\n",
    "logreg2.fit(X_train, y_train)\n",
    "y_pred2 = logreg2.predict(X_test)\n",
    "print('accuracy_score for logistic regression with L1 penalty:', accuracy_score(y_test, y_pred2))\n",
    "\n",
    "# third model is logistic regression with L1 penalty and C=0.1\n",
    "logreg3 = LogisticRegression(penalty = 'l1', solver = 'liblinear', C=0.1)\n",
    "logreg3.fit(X_train, y_train)\n",
    "y_pred3 = logreg3.predict(X_test)\n",
    "print('accuracy_score for logistic regression with L1 penalty and C=0.1:', accuracy_score(y_test, y_pred3))\n",
    "\n",
    "# fourth model is logistic regression with L1 penalty and C = 100\n",
    "logreg4 = LogisticRegression(penalty = 'l1', solver = 'liblinear', C=100)\n",
    "logreg4.fit(X_train, y_train)\n",
    "y_pred4 = logreg4.predict(X_test)\n",
    "print('accuracy_score for logistic regression with L1 penalty and C=100:', accuracy_score(y_test, y_pred4))\n",
    "\n",
    "# fifth model is logistic regression with L2 penalty\n",
    "logreg5 = LogisticRegression(penalty = 'l2', solver = 'liblinear', C=1)\n",
    "logreg5.fit(X_train, y_train)\n",
    "y_pred5 = logreg5.predict(X_test)\n",
    "print('accuracy_score for logistic regression with L2 penalty:', accuracy_score(y_test, y_pred5))\n",
    "\n",
    "# sixth model is logistic regression with L2 penalty and C=0.1\n",
    "logreg6 = LogisticRegression(penalty = 'l2', solver = 'liblinear', C=0.1)\n",
    "logreg6.fit(X_train, y_train)\n",
    "y_pred6 = logreg6.predict(X_test)\n",
    "print('accuracy_score for logistic regression with L2 penalty and C=0.1:', accuracy_score(y_test, y_pred6))\n",
    "\n",
    "# seventh model is logistic regression with L2 penalty and C=100\n",
    "logreg7 = LogisticRegression(penalty = 'l2', solver = 'liblinear', C=100)\n",
    "logreg7.fit(X_train, y_train)\n",
    "y_pred7 = logreg7.predict(X_test)\n",
    "print('accuracy_score for logistic regression with L2 penalty and C=100:', accuracy_score(y_test, y_pred7))\n",
    "\n",
    "\n",
    "\n",
    "\n",
    "\n"
   ]
  },
  {
   "cell_type": "markdown",
   "metadata": {},
   "source": [
    "Part B. Calulate L2 norm of the trained weights of model with no regularization "
   ]
  },
  {
   "cell_type": "code",
   "execution_count": 43,
   "metadata": {},
   "outputs": [
    {
     "name": "stdout",
     "output_type": "stream",
     "text": [
      "[0.6853496  8.24731058 1.69889098 0.1617846  1.30624021 0.04234366\n",
      " 0.06281434 1.24339873 1.45310614 6.55438231 0.81554726 0.13315118]\n",
      "L2 norm of the weights for logistic regression with no penalty: 10.973266367584284\n"
     ]
    }
   ],
   "source": [
    "# get the weights of the no penalty model\n",
    "weights = logreg.coef_[0]\n",
    "\n",
    "# calcuate its L2 norm\n",
    "l2_norm = np.linalg.norm(weights, 2)\n",
    "\n",
    "print('L2 norm of the weights for logistic regression with no penalty:', l2_norm)"
   ]
  },
  {
   "cell_type": "markdown",
   "metadata": {},
   "source": [
    "Part C. Choose logistic regression model with penalty as l1 which is highest accuracy and report l2 norm"
   ]
  },
  {
   "cell_type": "code",
   "execution_count": 38,
   "metadata": {},
   "outputs": [
    {
     "name": "stdout",
     "output_type": "stream",
     "text": [
      "L1 norm of the weights for logistic regression with c = 100 : 38.35983887039696\n"
     ]
    }
   ],
   "source": [
    "weights2 = logreg4.coef_[0]\n",
    "\n",
    "l2_norm1 = np.linalg.norm(weights2, 2)\n",
    "\n",
    "print('L1 norm of the weights for logistic regression with c = 100 :', l2_norm1)\n"
   ]
  },
  {
   "cell_type": "markdown",
   "metadata": {},
   "source": [
    "Part D. Choose logistic regression model with penalty as l2 which is highest accuracy and report l2 norm"
   ]
  },
  {
   "cell_type": "code",
   "execution_count": 39,
   "metadata": {},
   "outputs": [
    {
     "name": "stdout",
     "output_type": "stream",
     "text": [
      "L2 penality highest reg and c = 100 30.666043579477833\n"
     ]
    }
   ],
   "source": [
    "weights3 = logreg7.coef_[0]\n",
    "\n",
    "l2_norm2 = np.linalg.norm(weights3, 2)\n",
    "\n",
    "print('L2 penality highest reg and c = 100', l2_norm2)"
   ]
  },
  {
   "cell_type": "markdown",
   "metadata": {},
   "source": [
    "Part E. Count number of zero weights in the three models above. "
   ]
  },
  {
   "cell_type": "code",
   "execution_count": 53,
   "metadata": {},
   "outputs": [
    {
     "name": "stdout",
     "output_type": "stream",
     "text": [
      "no penalty 0\n",
      "l1 penalty 0\n",
      "l2 penalty 0\n"
     ]
    }
   ],
   "source": [
    "weights_log1 = np.abs(logreg.coef_[0])\n",
    "weights_log4 = np.abs(logreg4.coef_[0])\n",
    "weights_log7 = np.abs(logreg7.coef_[0])\n",
    "\n",
    "\n",
    "count1 = 0 \n",
    "count2 = 0 \n",
    "count3 = 0\n",
    "\n",
    "for weight in weights_log1:\n",
    "   \n",
    "    if weight <= 0.000001:\n",
    "        count1 += 1\n",
    "\n",
    "for weight in weights_log4:\n",
    "    if weight <= 0.00001:\n",
    "        count2 += 1\n",
    "\n",
    "for weight in weights_log7:\n",
    "    if weight <= 0.00001:\n",
    "        count3 += 1\n",
    "\n",
    "print('no penalty',count1)\n",
    "print('l1 penalty', count2)\n",
    "print('l2 penalty', count3)"
   ]
  }
 ],
 "metadata": {
  "kernelspec": {
   "display_name": "Python 3",
   "language": "python",
   "name": "python3"
  },
  "language_info": {
   "codemirror_mode": {
    "name": "ipython",
    "version": 3
   },
   "file_extension": ".py",
   "mimetype": "text/x-python",
   "name": "python",
   "nbconvert_exporter": "python",
   "pygments_lexer": "ipython3",
   "version": "3.11.8"
  }
 },
 "nbformat": 4,
 "nbformat_minor": 2
}
